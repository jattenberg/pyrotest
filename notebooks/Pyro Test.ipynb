{
 "cells": [
  {
   "cell_type": "code",
   "execution_count": 1,
   "id": "f9922871-5b93-4ca8-88a6-cabb78dd9340",
   "metadata": {},
   "outputs": [],
   "source": [
    "import polars as pl\n",
    "\n",
    "import numpy as np\n",
    "import jax.numpy as jnp\n",
    "import jax.random as random\n",
    "import numpyro\n",
    "import numpyro.distributions as dist\n",
    "from numpyro.infer import MCMC, NUTS\n",
    "from sklearn.preprocessing import LabelEncoder\n",
    "from numpyro.infer import Predictive\n",
    "from numpyro.diagnostics import hpdi\n",
    "import matplotlib.pyplot as plt\n",
    "\n",
    "s = numpyro.sample\n",
    "d = numpyro.deterministic\n"
   ]
  },
  {
   "cell_type": "code",
   "execution_count": null,
   "id": "0960282b-a0c1-4d5b-ac32-125d043d2485",
   "metadata": {},
   "outputs": [],
   "source": []
  }
 ],
 "metadata": {
  "kernelspec": {
   "display_name": "Python 3 (ipykernel)",
   "language": "python",
   "name": "python3"
  },
  "language_info": {
   "codemirror_mode": {
    "name": "ipython",
    "version": 3
   },
   "file_extension": ".py",
   "mimetype": "text/x-python",
   "name": "python",
   "nbconvert_exporter": "python",
   "pygments_lexer": "ipython3",
   "version": "3.11.4"
  }
 },
 "nbformat": 4,
 "nbformat_minor": 5
}
